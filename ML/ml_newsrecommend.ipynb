{
 "cells": [
  {
   "cell_type": "code",
   "execution_count": 1,
   "id": "9dabad87-bd62-4449-851a-813efadd6360",
   "metadata": {},
   "outputs": [],
   "source": [
    "import gzip\n",
    "from collections import defaultdict\n",
    "import random\n",
    "import scipy.optimize\n"
   ]
  },
  {
   "cell_type": "code",
   "execution_count": 2,
   "id": "4ba01b00-8f97-40eb-96a0-c141825fec7d",
   "metadata": {},
   "outputs": [],
   "source": [
    "path = \"amazon_reviews_us_Musical_Instruments_v1_00.tsv.gz\""
   ]
  },
  {
   "cell_type": "code",
   "execution_count": 3,
   "id": "7f43d3b4-302d-4305-bee1-be1aa9c628d1",
   "metadata": {},
   "outputs": [],
   "source": [
    "f = gzip.open(path, 'rt', encoding='utf-8')"
   ]
  },
  {
   "cell_type": "code",
   "execution_count": 4,
   "id": "eab53999-54d0-4483-b17e-ca6c8d632baa",
   "metadata": {},
   "outputs": [],
   "source": [
    "header = f.readline()\n",
    "header = header.strip().split('\\t')"
   ]
  },
  {
   "cell_type": "code",
   "execution_count": 5,
   "id": "606f9766-e285-41df-8f39-648b4ac35577",
   "metadata": {},
   "outputs": [],
   "source": [
    "dataset = []"
   ]
  },
  {
   "cell_type": "code",
   "execution_count": 6,
   "id": "79463daa-6ecd-4e04-abbd-075a449d72bb",
   "metadata": {},
   "outputs": [],
   "source": [
    "for line in f:\n",
    "    fields = line.strip().split('\\t')\n",
    "    d = dict(zip(header, fields))\n",
    "    d[\"star_rating\"] = int(d[\"star_rating\"])\n",
    "    d[\"helpful_votes\"] = int(d[\"helpful_votes\"])\n",
    "    d[\"total_votes\"] = int(d[\"total_votes\"])\n",
    "    dataset.append(d)\n"
   ]
  },
  {
   "cell_type": "code",
   "execution_count": 7,
   "id": "795b41e9-3d74-46f0-8fc2-9b3dcd9ac06f",
   "metadata": {},
   "outputs": [
    {
     "data": {
      "text/plain": [
       "{'marketplace': 'US',\n",
       " 'customer_id': '45610553',\n",
       " 'review_id': 'RMDCHWD0Y5OZ9',\n",
       " 'product_id': 'B00HH62VB6',\n",
       " 'product_parent': '618218723',\n",
       " 'product_title': 'AGPtek® 10 Isolated Output 9V 12V 18V Guitar Pedal Board Power Supply Effect Pedals with Isolated Short Cricuit / Overcurrent Protection',\n",
       " 'product_category': 'Musical Instruments',\n",
       " 'star_rating': 3,\n",
       " 'helpful_votes': 0,\n",
       " 'total_votes': 1,\n",
       " 'vine': 'N',\n",
       " 'verified_purchase': 'N',\n",
       " 'review_headline': 'Three Stars',\n",
       " 'review_body': 'Works very good, but induces ALOT of noise.',\n",
       " 'review_date': '2015-08-31'}"
      ]
     },
     "execution_count": 7,
     "metadata": {},
     "output_type": "execute_result"
    }
   ],
   "source": [
    "dataset[0]"
   ]
  },
  {
   "cell_type": "code",
   "execution_count": 8,
   "id": "4875f1f9-caf9-49e1-972f-bd9621998514",
   "metadata": {},
   "outputs": [],
   "source": [
    "users_per_item = defaultdict(set)\n",
    "items_per_user = defaultdict(set)"
   ]
  },
  {
   "cell_type": "code",
   "execution_count": 9,
   "id": "9c23dc3c-efbb-4c38-a740-fa5ada8a0e7b",
   "metadata": {},
   "outputs": [],
   "source": [
    "item_names = {}"
   ]
  },
  {
   "cell_type": "code",
   "execution_count": 10,
   "id": "8dba5188-0525-46b7-b7be-d81275f84015",
   "metadata": {},
   "outputs": [],
   "source": [
    "for d in dataset:\n",
    "    user, item = d['customer_id'], d['product_id']\n",
    "    users_per_item[item].add(user)\n",
    "    item_names[item] = d['product_title']\n"
   ]
  },
  {
   "cell_type": "code",
   "execution_count": 11,
   "id": "4a783ff9-a34c-4512-a974-f5e124d80b5a",
   "metadata": {},
   "outputs": [],
   "source": [
    "def jaccard(s1, s2):\n",
    "    numer = len(s1.intersection(s2))\n",
    "    denom = len(s1.union(s2))\n",
    "    return numer / denom\n",
    "\n"
   ]
  },
  {
   "cell_type": "code",
   "execution_count": 12,
   "id": "42017b9e-6af2-4511-bb96-c37a33a7e532",
   "metadata": {},
   "outputs": [],
   "source": [
    "def mostSimilar(i):\n",
    "    similarities = []\n",
    "    users = users_per_item[i]\n",
    "    for i2 in users_per_item:\n",
    "        if i2 == i:\n",
    "            continue\n",
    "        sim = jaccard(users, users_per_item)\n",
    "        similarities.append((sim,i2))\n",
    "    similarities.sort(reverse=True)\n",
    "    return similarities[:10]"
   ]
  },
  {
   "cell_type": "code",
   "execution_count": 13,
   "id": "c62e6bd0-efd6-4e5e-b737-8c4a29559914",
   "metadata": {},
   "outputs": [
    {
     "data": {
      "text/plain": [
       "{'marketplace': 'US',\n",
       " 'customer_id': '6111003',\n",
       " 'review_id': 'RIZR67JKUDBI0',\n",
       " 'product_id': 'B0006VMBHI',\n",
       " 'product_parent': '603261968',\n",
       " 'product_title': 'AudioQuest LP record clean brush',\n",
       " 'product_category': 'Musical Instruments',\n",
       " 'star_rating': 3,\n",
       " 'helpful_votes': 0,\n",
       " 'total_votes': 1,\n",
       " 'vine': 'N',\n",
       " 'verified_purchase': 'Y',\n",
       " 'review_headline': 'Three Stars',\n",
       " 'review_body': 'removes dust. does not clean',\n",
       " 'review_date': '2015-08-31'}"
      ]
     },
     "execution_count": 13,
     "metadata": {},
     "output_type": "execute_result"
    }
   ],
   "source": [
    "dataset[2]"
   ]
  },
  {
   "cell_type": "code",
   "execution_count": 14,
   "id": "b9386509-bf60-4ec5-a839-11d214fd2ade",
   "metadata": {},
   "outputs": [],
   "source": [
    "query = dataset[2]['product_id']"
   ]
  },
  {
   "cell_type": "code",
   "execution_count": 15,
   "id": "2bc839ef-5957-47ab-89b4-e9cb4d127582",
   "metadata": {},
   "outputs": [],
   "source": [
    "# mostSimilar(query)"
   ]
  },
  {
   "cell_type": "code",
   "execution_count": 16,
   "id": "035e3850-50a0-4445-999f-77de87d2b9f5",
   "metadata": {},
   "outputs": [
    {
     "data": {
      "text/plain": [
       "'AudioQuest LP record clean brush'"
      ]
     },
     "execution_count": 16,
     "metadata": {},
     "output_type": "execute_result"
    }
   ],
   "source": [
    "item_names[query]"
   ]
  },
  {
   "cell_type": "code",
   "execution_count": null,
   "id": "c55e0f0d-bd10-4082-b3c4-152a4f3e2a74",
   "metadata": {},
   "outputs": [],
   "source": [
    "[item_names[x[1]] for x in mostSimilar(query)]"
   ]
  },
  {
   "cell_type": "code",
   "execution_count": null,
   "id": "26975fe7-3cfe-4482-b8ea-c92d5887f318",
   "metadata": {},
   "outputs": [],
   "source": [
    "def mostSimilarFast(i):\n",
    "    similarities = []\n",
    "    uers = users_per_item[i]\n",
    "    candidateItems = set()\n",
    "    for u in users:\n",
    "        candidateItems = candidateItems.union(items_per_user[u])\n",
    "    for i2 in candidateItems:\n",
    "        if i2 == i:continue\n",
    "        sim = jaccard(users,users_per_item[i2])\n",
    "        similarities.append((sim,i2))\n",
    "    similarities.sort(reverse = True)\n",
    "    return similarities[:10]"
   ]
  },
  {
   "cell_type": "code",
   "execution_count": null,
   "id": "41df940d-91b0-401c-a73a-4b5d0e4985e2",
   "metadata": {},
   "outputs": [],
   "source": [
    "mostSimilarFast(query)"
   ]
  },
  {
   "cell_type": "code",
   "execution_count": null,
   "id": "1eb8b9e2-4d0d-46bc-be19-5e00fcbb40b7",
   "metadata": {},
   "outputs": [],
   "source": []
  },
  {
   "cell_type": "code",
   "execution_count": null,
   "id": "f0f494d3-d6f9-42d7-9d36-9907955df792",
   "metadata": {},
   "outputs": [],
   "source": []
  }
 ],
 "metadata": {
  "kernelspec": {
   "display_name": "Python 3 (ipykernel)",
   "language": "python",
   "name": "python3"
  },
  "language_info": {
   "codemirror_mode": {
    "name": "ipython",
    "version": 3
   },
   "file_extension": ".py",
   "mimetype": "text/x-python",
   "name": "python",
   "nbconvert_exporter": "python",
   "pygments_lexer": "ipython3",
   "version": "3.10.2"
  }
 },
 "nbformat": 4,
 "nbformat_minor": 5
}
