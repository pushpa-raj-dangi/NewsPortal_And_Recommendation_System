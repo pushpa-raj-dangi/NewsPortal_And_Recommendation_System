{
 "cells": [
  {
   "cell_type": "code",
   "execution_count": 36,
   "id": "1d42a505-5082-43dc-b727-17bd6103fd34",
   "metadata": {},
   "outputs": [],
   "source": [
    "from sklearn.feature_extraction.text import CountVectorizer\n",
    "from sklearn.metrics.pairwise import cosine_similarity"
   ]
  },
  {
   "cell_type": "code",
   "execution_count": 37,
   "id": "dad144d9-76e3-4d34-abf0-7eaf43c29924",
   "metadata": {},
   "outputs": [],
   "source": [
    "sentences  = [\"Action Movie\",\"Action Movie show\", \"Romantic Movie\", \"Romantic Movie Show\"]"
   ]
  },
  {
   "cell_type": "code",
   "execution_count": 38,
   "id": "8e92450b-d9c0-4d41-82a7-a563785f9804",
   "metadata": {},
   "outputs": [],
   "source": [
    "cv = CountVectorizer()"
   ]
  },
  {
   "cell_type": "code",
   "execution_count": 39,
   "id": "5a617267-db9f-4460-bf8c-2ce89ec9defe",
   "metadata": {},
   "outputs": [],
   "source": [
    "count_matrix = cv.fit_transform(sentences)"
   ]
  },
  {
   "cell_type": "code",
   "execution_count": 40,
   "id": "7c9cd3fb-f189-43d0-81c6-26584920d7aa",
   "metadata": {},
   "outputs": [
    {
     "data": {
      "text/plain": [
       "array([[1, 1, 0, 0],\n",
       "       [1, 1, 0, 1],\n",
       "       [0, 1, 1, 0],\n",
       "       [0, 1, 1, 1]], dtype=int64)"
      ]
     },
     "execution_count": 40,
     "metadata": {},
     "output_type": "execute_result"
    }
   ],
   "source": [
    "count_matrix.toarray()"
   ]
  },
  {
   "cell_type": "code",
   "execution_count": 41,
   "id": "687f28fb-8b33-4f1a-b80f-dc070985b685",
   "metadata": {},
   "outputs": [
    {
     "data": {
      "text/plain": [
       "array([[1.        , 0.81649658, 0.5       , 0.40824829],\n",
       "       [0.81649658, 1.        , 0.40824829, 0.66666667],\n",
       "       [0.5       , 0.40824829, 1.        , 0.81649658],\n",
       "       [0.40824829, 0.66666667, 0.81649658, 1.        ]])"
      ]
     },
     "execution_count": 41,
     "metadata": {},
     "output_type": "execute_result"
    }
   ],
   "source": [
    "cosine_similarity(count_matrix)"
   ]
  },
  {
   "cell_type": "code",
   "execution_count": 42,
   "id": "b13f7f4e-a6ee-40d6-9098-0f6c9d45eb04",
   "metadata": {},
   "outputs": [],
   "source": [
    "from sklearn.feature_extraction.text import CountVectorizer\n",
    "from sklearn.metrics.pairwise import cosine_similarity"
   ]
  },
  {
   "cell_type": "code",
   "execution_count": 43,
   "id": "330eb903-87b8-4d3a-a06f-0e1415656be7",
   "metadata": {},
   "outputs": [],
   "source": [
    "sentences = ['Superhero Action Movie','Romantic Movie','Superhero Action Tv Show','Romanctic Tv Show']"
   ]
  },
  {
   "cell_type": "code",
   "execution_count": 44,
   "id": "7c900dc2-fe04-45f7-8d69-b7ef1731e3c6",
   "metadata": {},
   "outputs": [],
   "source": [
    "cv = CountVectorizer()"
   ]
  },
  {
   "cell_type": "code",
   "execution_count": 45,
   "id": "8305555a-0797-4245-a796-2ef20c57a772",
   "metadata": {},
   "outputs": [],
   "source": [
    "count_matrix  = cv.fit_transform(sentences)"
   ]
  },
  {
   "cell_type": "code",
   "execution_count": 46,
   "id": "e8b2fb68-e41e-425c-b44c-f15f3b6f8c45",
   "metadata": {},
   "outputs": [],
   "source": [
    "cosine_sum = cosine_similarity(count_matrix)"
   ]
  },
  {
   "cell_type": "code",
   "execution_count": 47,
   "id": "dcc98b47-ad82-4f7b-ad48-879cfb8398ea",
   "metadata": {},
   "outputs": [
    {
     "data": {
      "text/plain": [
       "array([[1.        , 0.40824829, 0.57735027, 0.        ],\n",
       "       [0.40824829, 1.        , 0.        , 0.        ],\n",
       "       [0.57735027, 0.        , 1.        , 0.57735027],\n",
       "       [0.        , 0.        , 0.57735027, 1.        ]])"
      ]
     },
     "execution_count": 47,
     "metadata": {},
     "output_type": "execute_result"
    }
   ],
   "source": [
    "cosine_sum"
   ]
  },
  {
   "cell_type": "code",
   "execution_count": 48,
   "id": "9c98a649-4dcf-42d6-bde1-d3095c69b7cf",
   "metadata": {},
   "outputs": [],
   "source": [
    "sentence_data = cosine_sum[0]"
   ]
  },
  {
   "cell_type": "code",
   "execution_count": 49,
   "id": "731c9e8b-7b26-48fa-8e0e-b988a97c636d",
   "metadata": {},
   "outputs": [
    {
     "data": {
      "text/plain": [
       "array([1.        , 0.40824829, 0.57735027, 0.        ])"
      ]
     },
     "execution_count": 49,
     "metadata": {},
     "output_type": "execute_result"
    }
   ],
   "source": [
    "sentence_data"
   ]
  },
  {
   "cell_type": "code",
   "execution_count": 50,
   "id": "24cdeaab-3b35-4a5e-9610-d730a95fdb28",
   "metadata": {},
   "outputs": [],
   "source": [
    "enumerated_data = enumerate(sentence_data)"
   ]
  },
  {
   "cell_type": "code",
   "execution_count": 51,
   "id": "6200a85a-5e94-47d7-a79d-f83b347614e1",
   "metadata": {},
   "outputs": [
    {
     "data": {
      "text/plain": [
       "<enumerate at 0x19fab3aa180>"
      ]
     },
     "execution_count": 51,
     "metadata": {},
     "output_type": "execute_result"
    }
   ],
   "source": [
    "enumerated_data "
   ]
  },
  {
   "cell_type": "code",
   "execution_count": 52,
   "id": "8d78efee-ed1b-4d4b-8ecb-85149e3606c6",
   "metadata": {},
   "outputs": [],
   "source": [
    "list_data = list(enumerated_data )"
   ]
  },
  {
   "cell_type": "code",
   "execution_count": 53,
   "id": "e4ebee81-a970-4461-8834-dee044608e41",
   "metadata": {},
   "outputs": [],
   "source": [
    "sorted_list = sorted(list_data,key=lambda x:x[1], reverse=True)"
   ]
  },
  {
   "cell_type": "code",
   "execution_count": 54,
   "id": "582c3cb0-6471-4d9d-9d91-c836f852013a",
   "metadata": {},
   "outputs": [
    {
     "data": {
      "text/plain": [
       "(2, 0.5773502691896258)"
      ]
     },
     "execution_count": 54,
     "metadata": {},
     "output_type": "execute_result"
    }
   ],
   "source": [
    "sorted_list[1]"
   ]
  },
  {
   "cell_type": "code",
   "execution_count": 55,
   "id": "736a3d3c-9ef9-4763-ad4b-d7220344fdd5",
   "metadata": {},
   "outputs": [
    {
     "data": {
      "text/plain": [
       "2"
      ]
     },
     "execution_count": 55,
     "metadata": {},
     "output_type": "execute_result"
    }
   ],
   "source": [
    "sorted_list[1][0]"
   ]
  },
  {
   "cell_type": "code",
   "execution_count": 56,
   "id": "4e5884af-1cb0-4871-a4f8-5514ad75bb30",
   "metadata": {},
   "outputs": [],
   "source": [
    "nearest_sentence = sorted_list[1][0]"
   ]
  },
  {
   "cell_type": "code",
   "execution_count": 57,
   "id": "d0d7dbb2-47b8-48d3-8e84-fb95e96e9f5c",
   "metadata": {},
   "outputs": [
    {
     "data": {
      "text/plain": [
       "'Superhero Action Tv Show'"
      ]
     },
     "execution_count": 57,
     "metadata": {},
     "output_type": "execute_result"
    }
   ],
   "source": [
    "sentences[nearest_sentence]"
   ]
  },
  {
   "cell_type": "code",
   "execution_count": null,
   "id": "e058d4e6-348d-4ab1-abd8-6b956274c873",
   "metadata": {
    "tags": []
   },
   "outputs": [],
   "source": []
  },
  {
   "cell_type": "code",
   "execution_count": null,
   "id": "ca9b6125-ddd8-474f-ac98-236b6daebc12",
   "metadata": {},
   "outputs": [],
   "source": []
  }
 ],
 "metadata": {
  "kernelspec": {
   "display_name": "Python 3 (ipykernel)",
   "language": "python",
   "name": "python3"
  },
  "language_info": {
   "codemirror_mode": {
    "name": "ipython",
    "version": 3
   },
   "file_extension": ".py",
   "mimetype": "text/x-python",
   "name": "python",
   "nbconvert_exporter": "python",
   "pygments_lexer": "ipython3",
   "version": "3.10.2"
  }
 },
 "nbformat": 4,
 "nbformat_minor": 5
}
