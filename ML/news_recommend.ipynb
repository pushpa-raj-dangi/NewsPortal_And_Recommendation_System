{
 "cells": [
  {
   "cell_type": "code",
   "execution_count": 1,
   "id": "908332e3-f6f0-40e3-aaf6-a2b62d268b13",
   "metadata": {},
   "outputs": [],
   "source": [
    "from dataclasses import field\n",
    "from email import header\n",
    "import gzip\n",
    "from collections import defaultdict\n",
    "import random\n",
    "\n",
    "fl = gzip.open(\"amazon_reviews_us_Musical_Instruments_v1_00.tsv.gz\", 'rt', encoding='utf-8')\n",
    "header = fl.readline()\n",
    "header = header.strip().split('\\t')\n",
    "\n"
   ]
  },
  {
   "cell_type": "code",
   "execution_count": null,
   "id": "c5655424-b0c1-420b-849a-f8cc330e2226",
   "metadata": {},
   "outputs": [],
   "source": []
  },
  {
   "cell_type": "code",
   "execution_count": 39,
   "id": "d6d2ed80-5ef9-48b5-a76b-2af579428b5e",
   "metadata": {},
   "outputs": [],
   "source": [
    "\n",
    "dataset = []"
   ]
  },
  {
   "cell_type": "code",
   "execution_count": 40,
   "id": "cadccb47",
   "metadata": {},
   "outputs": [
    {
     "ename": "TypeError",
     "evalue": "'function' object is not iterable",
     "output_type": "error",
     "traceback": [
      "\u001b[1;31m---------------------------------------------------------------------------\u001b[0m",
      "\u001b[1;31mTypeError\u001b[0m                                 Traceback (most recent call last)",
      "\u001b[1;32me:\\python\\django\\Demo_Proj\\Demo_Proj\\news_recommend.ipynb Cell 3'\u001b[0m in \u001b[0;36m<cell line: 1>\u001b[1;34m()\u001b[0m\n\u001b[0;32m      <a href='vscode-notebook-cell:/e%3A/python/django/Demo_Proj/Demo_Proj/news_recommend.ipynb#ch0000002?line=0'>1</a>\u001b[0m \u001b[39mfor\u001b[39;00m line \u001b[39min\u001b[39;00m fl:\n\u001b[0;32m      <a href='vscode-notebook-cell:/e%3A/python/django/Demo_Proj/Demo_Proj/news_recommend.ipynb#ch0000002?line=1'>2</a>\u001b[0m     fields \u001b[39m=\u001b[39m line\u001b[39m.\u001b[39mstrip()\u001b[39m.\u001b[39msplit(\u001b[39m'\u001b[39m\u001b[39m\\t\u001b[39;00m\u001b[39m'\u001b[39m)\n\u001b[1;32m----> <a href='vscode-notebook-cell:/e%3A/python/django/Demo_Proj/Demo_Proj/news_recommend.ipynb#ch0000002?line=2'>3</a>\u001b[0m     d \u001b[39m=\u001b[39m \u001b[39mdict\u001b[39m(\u001b[39mzip\u001b[39m(header, field))\n\u001b[0;32m      <a href='vscode-notebook-cell:/e%3A/python/django/Demo_Proj/Demo_Proj/news_recommend.ipynb#ch0000002?line=3'>4</a>\u001b[0m     d[\u001b[39m'\u001b[39m\u001b[39mstar_rating\u001b[39m\u001b[39m'\u001b[39m] \u001b[39m=\u001b[39m \u001b[39mint\u001b[39m(d[\u001b[39m'\u001b[39m\u001b[39mstar_rating\u001b[39m\u001b[39m'\u001b[39m])\n\u001b[0;32m      <a href='vscode-notebook-cell:/e%3A/python/django/Demo_Proj/Demo_Proj/news_recommend.ipynb#ch0000002?line=4'>5</a>\u001b[0m     d[\u001b[39m'\u001b[39m\u001b[39mhelpful_votes\u001b[39m\u001b[39m'\u001b[39m] \u001b[39m=\u001b[39m \u001b[39mint\u001b[39m(d[\u001b[39m'\u001b[39m\u001b[39mhelpful_vote\u001b[39m\u001b[39m'\u001b[39m])\n",
      "\u001b[1;31mTypeError\u001b[0m: 'function' object is not iterable"
     ]
    }
   ],
   "source": [
    "\n",
    "for line in fl:\n",
    "    fields = line.strip().split('\\t')\n",
    "    \n",
    "    d = dict(zip(header, field))\n",
    "    d['star_rating'] = int(d['star_rating'])\n",
    "    d['helpful_votes'] = int(d['helpful_vote'])\n",
    "    d['total_votes'] = int(d['total_votes'])\n",
    "\n",
    "    dataset.append(d)\n",
    "\n",
    "\n",
    "dataset[0]\n",
    "\n",
    "users_per_item = defaultdict(set)\n",
    "items_per_user = defaultdict(set)\n",
    "\n",
    "item_names = {}\n",
    "\n",
    "for d in dataset:\n",
    "    user, item = d['customer'], d['product_id']\n",
    "    users_per_item[item].add(user)\n",
    "    item_names[item] = d['product_title']\n",
    "\n",
    "\n",
    "def jaccard(s1, s2):\n",
    "    numer = len(s1.inersection(s2))\n",
    "    denom = len(s1.union(s2))\n",
    "    return numer / denom\n",
    "\n",
    "\n",
    "def mostSimilar(i):\n",
    "    similarities = []\n",
    "    users = users_per_item[i]\n",
    "    for i2 in users_per_item:\n",
    "        if i2 == i:\n",
    "            continue\n",
    "        sim = jaccard(users, users_per_item)\n",
    "        similarities.append(sim, i2)\n",
    "    similarities.sort(reverse=True)\n",
    "    return similarities[:10]\n",
    "\n",
    "\n",
    "dataset[2]\n",
    "\n",
    "query = dataset[2]['product_id']\n",
    "\n",
    "\n",
    "mostSimilar(query)\n",
    "\n",
    "item_names[query]\n",
    "\n",
    "[item_names[x[1]] for x in mostSimilar(query)]\n",
    "\n",
    "\n",
    "def mostSimilarFast(i):\n",
    "    similarities = []\n",
    "    users = users_per_item[i]\n",
    "    candidates_items = set()\n",
    "\n",
    "    for u in users:\n",
    "        candidates_items = candidates_items.union(items_per_user[u])\n",
    "\n",
    "    for i2 in candidates_items:\n",
    "        if i2 == i:\n",
    "            continue\n",
    "        sim = jaccard(users, users_per_item[i2])\n",
    "    similarities.sort(reverse=True)\n",
    "    return similarities[:10]\n"
   ]
  },
  {
   "cell_type": "code",
   "execution_count": null,
   "id": "134d1220",
   "metadata": {},
   "outputs": [],
   "source": []
  },
  {
   "cell_type": "code",
   "execution_count": null,
   "id": "c1363834",
   "metadata": {},
   "outputs": [],
   "source": []
  }
 ],
 "metadata": {
  "kernelspec": {
   "display_name": "Python 3 (ipykernel)",
   "language": "python",
   "name": "python3"
  },
  "language_info": {
   "codemirror_mode": {
    "name": "ipython",
    "version": 3
   },
   "file_extension": ".py",
   "mimetype": "text/x-python",
   "name": "python",
   "nbconvert_exporter": "python",
   "pygments_lexer": "ipython3",
   "version": "3.10.2"
  }
 },
 "nbformat": 4,
 "nbformat_minor": 5
}
